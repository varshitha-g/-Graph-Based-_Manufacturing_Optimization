{
 "cells": [
  {
   "cell_type": "code",
   "execution_count": 1,
   "id": "739f614b-3767-4023-9611-839be1dc83c7",
   "metadata": {},
   "outputs": [
    {
     "name": "stdout",
     "output_type": "stream",
     "text": [
      "Collecting networkx\n",
      "  Downloading networkx-3.4.2-py3-none-any.whl.metadata (6.3 kB)\n",
      "Requirement already satisfied: matplotlib in /Library/Frameworks/Python.framework/Versions/3.12/lib/python3.12/site-packages (3.9.1)\n",
      "Requirement already satisfied: contourpy>=1.0.1 in /Library/Frameworks/Python.framework/Versions/3.12/lib/python3.12/site-packages (from matplotlib) (1.2.1)\n",
      "Requirement already satisfied: cycler>=0.10 in /Library/Frameworks/Python.framework/Versions/3.12/lib/python3.12/site-packages (from matplotlib) (0.12.1)\n",
      "Requirement already satisfied: fonttools>=4.22.0 in /Library/Frameworks/Python.framework/Versions/3.12/lib/python3.12/site-packages (from matplotlib) (4.53.1)\n",
      "Requirement already satisfied: kiwisolver>=1.3.1 in /Library/Frameworks/Python.framework/Versions/3.12/lib/python3.12/site-packages (from matplotlib) (1.4.5)\n",
      "Requirement already satisfied: numpy>=1.23 in /Library/Frameworks/Python.framework/Versions/3.12/lib/python3.12/site-packages (from matplotlib) (2.0.1)\n",
      "Requirement already satisfied: packaging>=20.0 in /Library/Frameworks/Python.framework/Versions/3.12/lib/python3.12/site-packages (from matplotlib) (24.1)\n",
      "Requirement already satisfied: pillow>=8 in /Library/Frameworks/Python.framework/Versions/3.12/lib/python3.12/site-packages (from matplotlib) (10.4.0)\n",
      "Requirement already satisfied: pyparsing>=2.3.1 in /Library/Frameworks/Python.framework/Versions/3.12/lib/python3.12/site-packages (from matplotlib) (3.1.2)\n",
      "Requirement already satisfied: python-dateutil>=2.7 in /Library/Frameworks/Python.framework/Versions/3.12/lib/python3.12/site-packages (from matplotlib) (2.9.0.post0)\n",
      "Requirement already satisfied: six>=1.5 in /Library/Frameworks/Python.framework/Versions/3.12/lib/python3.12/site-packages (from python-dateutil>=2.7->matplotlib) (1.16.0)\n",
      "Downloading networkx-3.4.2-py3-none-any.whl (1.7 MB)\n",
      "\u001b[2K   \u001b[90m━━━━━━━━━━━━━━━━━━━━━━━━━━━━━━━━━━━━━━━━\u001b[0m \u001b[32m1.7/1.7 MB\u001b[0m \u001b[31m7.6 MB/s\u001b[0m eta \u001b[36m0:00:00\u001b[0ma \u001b[36m0:00:01\u001b[0m\n",
      "\u001b[?25hInstalling collected packages: networkx\n",
      "Successfully installed networkx-3.4.2\n",
      "\n",
      "\u001b[1m[\u001b[0m\u001b[34;49mnotice\u001b[0m\u001b[1;39;49m]\u001b[0m\u001b[39;49m A new release of pip is available: \u001b[0m\u001b[31;49m24.1.2\u001b[0m\u001b[39;49m -> \u001b[0m\u001b[32;49m24.3.1\u001b[0m\n",
      "\u001b[1m[\u001b[0m\u001b[34;49mnotice\u001b[0m\u001b[1;39;49m]\u001b[0m\u001b[39;49m To update, run: \u001b[0m\u001b[32;49mpip install --upgrade pip\u001b[0m\n",
      "Note: you may need to restart the kernel to use updated packages.\n"
     ]
    }
   ],
   "source": [
    "pip install networkx matplotlib"
   ]
  },
  {
   "cell_type": "code",
   "execution_count": 2,
   "id": "a0ca0a6c-6cc8-4e81-8c68-5e1633226a91",
   "metadata": {},
   "outputs": [],
   "source": [
    "import networkx as nx\n",
    "import matplotlib.pyplot as plt"
   ]
  },
  {
   "cell_type": "code",
   "execution_count": 3,
   "id": "34539cd8-6b46-4df3-b1f2-8393c34cae6b",
   "metadata": {},
   "outputs": [],
   "source": [
    "# Create a directed graph\n",
    "G = nx.DiGraph()\n"
   ]
  },
  {
   "cell_type": "code",
   "execution_count": 4,
   "id": "d78b44f7-22d5-45c3-a71b-4700aee8b8ad",
   "metadata": {},
   "outputs": [],
   "source": [
    "# Add nodes (Machines)\n",
    "machines = [\"M1\", \"M2\", \"M3\", \"M4\", \"M5\"]\n",
    "G.add_nodes_from(machines)"
   ]
  },
  {
   "cell_type": "code",
   "execution_count": 5,
   "id": "75f3f3ef-83af-4130-b5ac-ddc126c3adbf",
   "metadata": {},
   "outputs": [],
   "source": [
    "# Add edges (Process flows) with attributes\n",
    "edges = [\n",
    "    (\"M1\", \"M2\", {\"time\": 3, \"failure_rate\": 0.01}),\n",
    "    (\"M2\", \"M3\", {\"time\": 5, \"failure_rate\": 0.02}),\n",
    "    (\"M3\", \"M4\", {\"time\": 2, \"failure_rate\": 0.015}),\n",
    "    (\"M4\", \"M5\", {\"time\": 4, \"failure_rate\": 0.01}),\n",
    "    (\"M2\", \"M5\", {\"time\": 7, \"failure_rate\": 0.03}),\n",
    "]\n",
    "G.add_edges_from(edges)"
   ]
  },
  {
   "cell_type": "code",
   "execution_count": 6,
   "id": "7cf09946-2b09-4794-bd64-3a7d4b9acc4c",
   "metadata": {},
   "outputs": [
    {
     "name": "stdout",
     "output_type": "stream",
     "text": [
      "Graph Nodes: ['M1', 'M2', 'M3', 'M4', 'M5']\n",
      "Graph Edges: [('M1', 'M2', {'time': 3, 'failure_rate': 0.01}), ('M2', 'M3', {'time': 5, 'failure_rate': 0.02}), ('M2', 'M5', {'time': 7, 'failure_rate': 0.03}), ('M3', 'M4', {'time': 2, 'failure_rate': 0.015}), ('M4', 'M5', {'time': 4, 'failure_rate': 0.01})]\n"
     ]
    }
   ],
   "source": [
    "print(\"Graph Nodes:\", G.nodes)\n",
    "print(\"Graph Edges:\", G.edges(data=True))\n"
   ]
  },
  {
   "cell_type": "code",
   "execution_count": 7,
   "id": "e629e8b2-a155-456a-aa18-b2804722234d",
   "metadata": {},
   "outputs": [
    {
     "name": "stdout",
     "output_type": "stream",
     "text": [
      "Betweenness Centrality: {'M1': 0.0, 'M2': 0.25, 'M3': 0.16666666666666666, 'M4': 0.08333333333333333, 'M5': 0.0}\n"
     ]
    }
   ],
   "source": [
    "# Calculate betweenness centrality\n",
    "centrality = nx.betweenness_centrality(G, weight=\"time\")\n",
    "print(\"Betweenness Centrality:\", centrality)\n"
   ]
  },
  {
   "cell_type": "code",
   "execution_count": 8,
   "id": "fbc1e2bc-f599-47ff-801d-f38106220ede",
   "metadata": {},
   "outputs": [
    {
     "name": "stdout",
     "output_type": "stream",
     "text": [
      "Shortest Path: ['M1', 'M2', 'M5']\n"
     ]
    }
   ],
   "source": [
    "# Find the shortest path based on processing time\n",
    "shortest_path = nx.shortest_path(G, source=\"M1\", target=\"M5\", weight=\"time\")\n",
    "print(\"Shortest Path:\", shortest_path)\n"
   ]
  },
  {
   "cell_type": "code",
   "execution_count": 9,
   "id": "a6867397-2b3d-4016-ac1a-e2ba272d91b4",
   "metadata": {},
   "outputs": [
    {
     "name": "stdout",
     "output_type": "stream",
     "text": [
      "Alternative Path After M3 Failure: ['M1', 'M2', 'M5']\n"
     ]
    }
   ],
   "source": [
    "# Remove a node to simulate machine failure\n",
    "G.remove_node(\"M3\")\n",
    "\n",
    "# Find an alternative path\n",
    "alternative_path = nx.shortest_path(G, source=\"M1\", target=\"M5\", weight=\"time\")\n",
    "print(\"Alternative Path After M3 Failure:\", alternative_path)\n"
   ]
  },
  {
   "cell_type": "code",
   "execution_count": 10,
   "id": "92cbdc4b-ade4-4483-affe-f5c7c35a17ff",
   "metadata": {},
   "outputs": [
    {
     "name": "stdout",
     "output_type": "stream",
     "text": [
      "Minimum Spanning Tree Edges: [('M1', 'M2', {'time': 3, 'failure_rate': 0.01}), ('M2', 'M5', {'time': 7, 'failure_rate': 0.03}), ('M4', 'M5', {'time': 4, 'failure_rate': 0.01})]\n"
     ]
    }
   ],
   "source": [
    "# Convert the directed graph to undirected for MST\n",
    "mst = nx.minimum_spanning_tree(G.to_undirected(), weight=\"time\")\n",
    "print(\"Minimum Spanning Tree Edges:\", list(mst.edges(data=True)))\n"
   ]
  },
  {
   "cell_type": "code",
   "execution_count": 11,
   "id": "13d1f6d5-67ef-4c8f-abc8-cd80edec2069",
   "metadata": {},
   "outputs": [
    {
     "data": {
      "image/png": "[encoded data removed]",
      "text/plain": [
       "<Figure size 640x480 with 1 Axes>"
      ]
     },
     "metadata": {},
     "output_type": "display_data"
    }
   ],
   "source": [
    "# Draw the graph\n",
    "pos = nx.spring_layout(G)  # Layout for better visualization\n",
    "nx.draw(G, pos, with_labels=True, node_color=\"lightblue\", edge_color=\"gray\", node_size=2000)\n",
    "edge_labels = nx.get_edge_attributes(G, \"time\")\n",
    "nx.draw_networkx_edge_labels(G, pos, edge_labels=edge_labels)\n",
    "plt.title(\"Manufacturing Process Workflow\")\n",
    "plt.show()\n"
   ]
  },
  {
   "cell_type": "code",
   "execution_count": null,
   "id": "21d00c1f-09a5-4565-9ff7-f546db2d92ff",
   "metadata": {},
   "outputs": [],
   "source": []
  }
 ],
 "metadata": {
  "kernelspec": {
   "display_name": "Python 3 (ipykernel)",
   "language": "python",
   "name": "python3"
  },
  "language_info": {
   "codemirror_mode": {
    "name": "ipython",
    "version": 3
   },
   "file_extension": ".py",
   "mimetype": "text/x-python",
   "name": "python",
   "nbconvert_exporter": "python",
   "pygments_lexer": "ipython3",
   "version": "3.12.4"
  }
 },
 "nbformat": 4,
 "nbformat_minor": 5
}
